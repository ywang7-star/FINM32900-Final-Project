{
 "cells": [
  {
   "cell_type": "markdown",
   "metadata": {},
   "source": [
    "# Figure A1 replication"
   ]
  },
  {
   "cell_type": "markdown",
   "metadata": {},
   "source": [
    "Total Assets Plot "
   ]
  },
  {
   "cell_type": "code",
   "execution_count": 1,
   "metadata": {},
   "outputs": [],
   "source": [
    "import pandas as pd\n",
    "import matplotlib.pyplot as plt"
   ]
  },
  {
   "cell_type": "code",
   "execution_count": null,
   "metadata": {},
   "outputs": [],
   "source": [
    "bank_asset = pd.read_csv('bank_asset.csv')  # Read DataFrame from CSV"
   ]
  },
  {
   "cell_type": "code",
   "execution_count": null,
   "metadata": {},
   "outputs": [],
   "source": [
    "aggregate_sum_assets = sum(bank_asset['Total Asset'].values())\n",
    "aggregate_cash = sum(bank_asset['cash'].values())\n",
    "aggregate_security = sum(bank_asset['security_total'])\n",
    "aggregate_real_estate_loan = sum(bank_asset['Real_Estate_Loan'])\n",
    "aggregate_Comm_Indu_Loan = sum(bank_asset['Comm_Indu_Loan'])\n",
    "aggregate_Consumer_Loan = sum(bank_asset['Consumer_Loan'])\n",
    "aggregate_Agri_Loan = sum(bank_asset['Agri_Loan'])\n",
    "aggregate_other_loan = aggregate_Comm_Indu_Loan + aggregate_Consumer_Loan + aggregate_Agri_Loan\n",
    "aggregate_other_asset = aggregate_sum_assets - aggregate_cash - aggregate_security - aggregate_real_estate_loan - aggregate_other_loan\n",
    "proportions = {\n",
    "    'Cash': (aggregate_cash / aggregate_sum_assets) * 24,\n",
    "    'Security': (aggregate_security / aggregate_sum_assets) * 24,\n",
    "    'Real Estate Loan': (aggregate_real_estate_loan / aggregate_sum_assets) * 24,\n",
    "    'Other Loan': (aggregate_other_loan / aggregate_sum_assets) * 24,\n",
    "    'Other Asset': (aggregate_other_asset / aggregate_sum_assets) * 24\n",
    "}\n",
    "proportions"
   ]
  },
  {
   "cell_type": "code",
   "execution_count": null,
   "metadata": {},
   "outputs": [],
   "source": [
    "colors_assets = ['navy', 'royalblue', 'deepskyblue', 'lightskyblue', 'lightblue']\n",
    "\n",
    "# Create figure and axes\n",
    "fig, ax = plt.subplots(figsize=(12, 2))  # More width for better annotation visibility\n",
    "\n",
    "# Starting point for the first segment of the bar\n",
    "starting = 0\n",
    "\n",
    "# Plot each category segment in the bar and annotate\n",
    "for (category, value), color in zip(proportions.items(), colors_assets):\n",
    "    ax.barh('Total Assets', value, left=starting, color=color)\n",
    "    text_x = starting + value / 2  \n",
    "    ax.text(text_x, 0, category, ha='center', va='center', color='white', fontsize=10, fontweight='bold')\n",
    "    starting += value\n",
    "\n",
    "# Set the limits and labels for the x-axis\n",
    "ax.set_xlim(0, 24)\n",
    "ax.set_xlabel('Trillion ($)')\n",
    "\n",
    "# Remove y-axis as we only have one bar\n",
    "ax.get_yaxis().set_visible(False)\n",
    "\n",
    "# Set the title\n",
    "ax.set_title('Total Assets (Trillion)')\n",
    "\n",
    "# Remove all spines\n",
    "for spine in ax.spines.values():\n",
    "    spine.set_visible(False)\n",
    "\n",
    "# Remove ticks for cleaner look\n",
    "ax.tick_params(bottom=False, left=False)\n",
    "\n",
    "# Show the grid for the x-axis only\n",
    "ax.xaxis.grid(True, color='grey', linestyle='--', linewidth=0.5)\n",
    "\n",
    "# Show the figure\n",
    "plt.tight_layout()\n",
    "plt.show()\n"
   ]
  },
  {
   "cell_type": "markdown",
   "metadata": {},
   "source": [
    "Total Liability plot"
   ]
  },
  {
   "cell_type": "code",
   "execution_count": null,
   "metadata": {},
   "outputs": [],
   "source": [
    "bank_liability = pd.read_csv('bank_liability.csv')  # Read DataFrame from CSV"
   ]
  },
  {
   "cell_type": "code",
   "execution_count": null,
   "metadata": {},
   "outputs": [],
   "source": [
    "aggregate_liability = sum(bank_asset['Total Liability'].values())\n",
    "aggregate_Insured_Deposit = sum(bank_asset['Insured Deposit'].values())\n",
    "aggregate_Uninsured_Deposit = sum(bank_asset['Uninsured Deposit'].values())\n",
    "aggregate_Equity = sum(bank_asset['Total Equity'].values())\n",
    "aggregate_Other_liability = aggregate_liability - aggregate_Insured_Deposit - aggregate_Uninsured_Deposit - aggregate_Equity\n",
    "\n",
    "proportions_liability = {\n",
    "    'Insured Deposit': (aggregate_Insured_Deposit / aggregate_liability) * 24,\n",
    "    'Uninsured Deposit': (aggregate_Uninsured_Deposit / aggregate_liability) * 24,\n",
    "    'Total Equity': (aggregate_Equity / aggregate_liability) * 24,\n",
    "    'Other': (aggregate_Other_liability / aggregate_liability) * 24\n",
    "}\n",
    "proportions_liability"
   ]
  },
  {
   "cell_type": "code",
   "execution_count": null,
   "metadata": {},
   "outputs": [],
   "source": [
    "\n",
    "# Define the colors for each category in the liability section\n",
    "colors_liabilities = ['darkred', 'red', 'sandybrown', 'peachpuff']\n",
    "\n",
    "# Create figure and axes for the liabilities chart\n",
    "fig, ax = plt.subplots(figsize=(12, 2))  # Similar size to the assets chart for consistency\n",
    "\n",
    "# Starting point for the first segment of the liability bar\n",
    "starting_liability = 0\n",
    "\n",
    "# Plot each category segment in the bar and annotate for liabilities\n",
    "for (category, value), color in zip(proportions_liability.items(), colors_liabilities):\n",
    "    ax.barh('Total Liability', value, left=starting_liability, color=color)\n",
    "    # Annotate the segment with the category name\n",
    "    text_x = starting_liability + value / 2  # Position the text in the middle of the segment\n",
    "    ax.text(text_x, 0, category, ha='center', va='center', color='black', fontsize=10, fontweight='bold')\n",
    "    starting_liability += value\n",
    "\n",
    "# Set the limits and labels for the x-axis\n",
    "ax.set_xlim(0, 24)\n",
    "ax.set_xlabel('Trillion ($)')\n",
    "\n",
    "# Remove y-axis as we only have one bar\n",
    "ax.get_yaxis().set_visible(False)\n",
    "\n",
    "# Set the title\n",
    "ax.set_title('Total Liability (Trillion)')\n",
    "\n",
    "# Remove all spines\n",
    "for spine in ax.spines.values():\n",
    "    spine.set_visible(False)\n",
    "\n",
    "# Remove ticks for cleaner look\n",
    "ax.tick_params(bottom=False, left=False)\n",
    "\n",
    "# Show the grid for the x-axis only\n",
    "ax.xaxis.grid(True, color='grey', linestyle='--', linewidth=0.5)\n",
    "\n",
    "# Show the figure\n",
    "plt.tight_layout()\n",
    "plt.show()\n"
   ]
  },
  {
   "cell_type": "markdown",
   "metadata": {},
   "source": [
    "summary table of Loan-to-Asset Ratio"
   ]
  },
  {
   "cell_type": "code",
   "execution_count": null,
   "metadata": {},
   "outputs": [],
   "source": [
    "small_total_loan = bank_asset.loc['small(mean)','Total Loan'].value()\n",
    "small_total_asset = bank_asset['small(mean)','Total Asset'].values()\n",
    "LoantoAsset_Ratio_Small = small_total_loan / small_total_asset\n",
    "\n",
    "large_total_loan = bank_asset.loc['large(mean)','Total Loan'].value()\n",
    "large_total_asset = bank_asset['large(mean)','Total Asset'].values()\n",
    "LoantoAsset_Ratio_large = large_total_loan / large_total_asset\n",
    "\n",
    "GSIB_total_loan = bank_asset.loc['GSIB(mean)','Total Loan'].value()\n",
    "GSIB_total_asset = bank_asset['GSIB(mean)','Total Asset'].values()\n",
    "LoantoAsset_Ratio_GSIB = GSIB_total_loan / GSIB_total_asset"
   ]
  },
  {
   "cell_type": "code",
   "execution_count": null,
   "metadata": {},
   "outputs": [],
   "source": [
    "import pandas as pd\n",
    "\n",
    "# Define the data as a dictionary\n",
    "data = {\n",
    "    'Loan-to-Asset_Ratio': [\n",
    "        'LoantoAsset_Ratio_Small', \n",
    "        'LoantoAsset_Ratio_Large', \n",
    "        'LoantoAsset_Ratio_GSIB'\n",
    "    ]\n",
    "}\n",
    "\n",
    "# Define the row labels (index)\n",
    "row_labels = ['Small Bank', 'Large Bank', 'GSIB Bank']\n",
    "\n",
    "# Create the DataFrame\n",
    "df = pd.DataFrame(data, index=row_labels)\n",
    "\n",
    "print(df)"
   ]
  }
 ],
 "metadata": {
  "kernelspec": {
   "display_name": "Python 3",
   "language": "python",
   "name": "python3"
  },
  "language_info": {
   "codemirror_mode": {
    "name": "ipython",
    "version": 3
   },
   "file_extension": ".py",
   "mimetype": "text/x-python",
   "name": "python",
   "nbconvert_exporter": "python",
   "pygments_lexer": "ipython3",
   "version": "3.11.5"
  }
 },
 "nbformat": 4,
 "nbformat_minor": 2
}
